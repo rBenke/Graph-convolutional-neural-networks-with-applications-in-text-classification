{
 "cells": [
  {
   "cell_type": "code",
   "execution_count": 4,
   "metadata": {},
   "outputs": [],
   "source": [
    "import pandas as pd\n",
    "import os\n",
    "import pyarrow.feather as feather\n",
    "data_path =  os.getcwd()\n",
    "# folders names\n",
    "categories = [\"business\", \"tech\", \"politics\", \"sport\", \"entertainment\"]\n",
    "# paths to folders\n",
    "folder_path = [data_path + \"/data/bbc/\" + categories[i] for i in range(len(categories))]\n",
    "# names of files in every folder\n",
    "file_path = []\n",
    "for i in range(len(folder_path)):\n",
    "    file_path_one_categ = [folder_path[i]+ \"/\" + file_name for file_name in os.listdir(folder_path[i])]\n",
    "    file_path.append(file_path_one_categ)\n",
    "\n",
    "# read all files\n",
    "file_text = []\n",
    "for i in range(len(categories)):\n",
    "    file_text_one_categ = []\n",
    "    for path in file_path[i]:\n",
    "        with open(path, errors=\"replace\") as open_file:\n",
    "            file_text_one_categ.append(open_file.read())\n",
    "    file_text.append(file_text_one_categ)"
   ]
  },
  {
   "cell_type": "code",
   "execution_count": 5,
   "metadata": {},
   "outputs": [],
   "source": [
    "# concatenate all into single data.frame\n",
    "dataFrame_list = []\n",
    "for i in range(len(file_text)):\n",
    "    data_one_cat = pd.DataFrame([file_text[i], [categories[i]]*len(file_text[i])])\n",
    "    data_one_cat = data_one_cat.transpose()\n",
    "    data_one_cat.columns= [\"text\", \"category\"]\n",
    "    dataFrame_list.append(data_one_cat)\n",
    "\n",
    "data_all = pd.concat(dataFrame_list)"
   ]
  },
  {
   "cell_type": "code",
   "execution_count": 6,
   "metadata": {},
   "outputs": [
    {
     "name": "stdout",
     "output_type": "stream",
     "text": [
      "               text\n",
      "category           \n",
      "business        510\n",
      "entertainment   386\n",
      "politics        417\n",
      "sport           511\n",
      "tech            401\n"
     ]
    },
    {
     "data": {
      "text/html": [
       "<div>\n",
       "<style scoped>\n",
       "    .dataframe tbody tr th:only-of-type {\n",
       "        vertical-align: middle;\n",
       "    }\n",
       "\n",
       "    .dataframe tbody tr th {\n",
       "        vertical-align: top;\n",
       "    }\n",
       "\n",
       "    .dataframe thead th {\n",
       "        text-align: right;\n",
       "    }\n",
       "</style>\n",
       "<table border=\"1\" class=\"dataframe\">\n",
       "  <thead>\n",
       "    <tr style=\"text-align: right;\">\n",
       "      <th></th>\n",
       "      <th>text</th>\n",
       "      <th>category</th>\n",
       "    </tr>\n",
       "  </thead>\n",
       "  <tbody>\n",
       "    <tr>\n",
       "      <th>381</th>\n",
       "      <td>US charity anthem is re-released\\n\\nWe Are The...</td>\n",
       "      <td>entertainment</td>\n",
       "    </tr>\n",
       "    <tr>\n",
       "      <th>382</th>\n",
       "      <td>Three DJs replace Peel radio show\\n\\nThe late ...</td>\n",
       "      <td>entertainment</td>\n",
       "    </tr>\n",
       "    <tr>\n",
       "      <th>383</th>\n",
       "      <td>Famed music director Viotti dies\\n\\nConductor ...</td>\n",
       "      <td>entertainment</td>\n",
       "    </tr>\n",
       "    <tr>\n",
       "      <th>384</th>\n",
       "      <td>Lit Idol begins search for author\\n\\nThe secon...</td>\n",
       "      <td>entertainment</td>\n",
       "    </tr>\n",
       "    <tr>\n",
       "      <th>385</th>\n",
       "      <td>Jungle TV show ratings drop by 4m\\n\\nThe final...</td>\n",
       "      <td>entertainment</td>\n",
       "    </tr>\n",
       "  </tbody>\n",
       "</table>\n",
       "</div>"
      ],
      "text/plain": [
       "                                                  text       category\n",
       "381  US charity anthem is re-released\\n\\nWe Are The...  entertainment\n",
       "382  Three DJs replace Peel radio show\\n\\nThe late ...  entertainment\n",
       "383  Famed music director Viotti dies\\n\\nConductor ...  entertainment\n",
       "384  Lit Idol begins search for author\\n\\nThe secon...  entertainment\n",
       "385  Jungle TV show ratings drop by 4m\\n\\nThe final...  entertainment"
      ]
     },
     "execution_count": 6,
     "metadata": {},
     "output_type": "execute_result"
    }
   ],
   "source": [
    "print(data_all.groupby(\"category\").count())\n",
    "data_all.tail(5)"
   ]
  },
  {
   "cell_type": "code",
   "execution_count": 7,
   "metadata": {},
   "outputs": [
    {
     "name": "stderr",
     "output_type": "stream",
     "text": [
      "<ipython-input-7-cb83fb7799b0>:1: FutureWarning: the 'fname'' keyword is deprecated, use 'path' instead\n",
      "  data_all.reset_index().to_feather(fname=\"raw_text_DF.feather\")\n"
     ]
    }
   ],
   "source": [
    "data_all.reset_index().to_feather(fname=\"raw_text_DF.feather\")"
   ]
  }
 ],
 "metadata": {
  "kernelspec": {
   "display_name": "venv",
   "language": "python",
   "name": "venv"
  },
  "language_info": {
   "codemirror_mode": {
    "name": "ipython",
    "version": 3
   },
   "file_extension": ".py",
   "mimetype": "text/x-python",
   "name": "python",
   "nbconvert_exporter": "python",
   "pygments_lexer": "ipython3",
   "version": "3.8.5"
  }
 },
 "nbformat": 4,
 "nbformat_minor": 2
}
