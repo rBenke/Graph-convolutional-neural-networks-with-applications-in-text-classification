{
 "cells": [
  {
   "cell_type": "markdown",
   "metadata": {},
   "source": [
    "## Texts to one huge graph"
   ]
  },
  {
   "cell_type": "code",
   "execution_count": 1,
   "metadata": {},
   "outputs": [
    {
     "name": "stderr",
     "output_type": "stream",
     "text": [
      "[nltk_data] Downloading package punkt to /home/robert/nltk_data...\n",
      "[nltk_data]   Package punkt is already up-to-date!\n"
     ]
    },
    {
     "name": "stdout",
     "output_type": "stream",
     "text": [
      "(2225, 3)\n"
     ]
    }
   ],
   "source": [
    "#-- read data\n",
    "# http://mlg.ucd.ie/datasets/bbc.html\n",
    "import itertools\n",
    "import pandas as pd\n",
    "import numpy as np\n",
    "import networkx as nx \n",
    "import sys\n",
    "import scipy\n",
    "#-- create graph from text\n",
    "import nltk\n",
    "from nltk import word_tokenize \n",
    "from nltk.util import ngrams\n",
    "nltk.download('punkt')\n",
    "\n",
    "data = pd.read_feather(\"../data/raw_text_DF.feather\")\n",
    "data[\"category\"] = pd.Categorical(data[\"category\"])\n",
    "print(data.shape)\n",
    "X = data[\"text\"]\n",
    "X_tokenized = [word_tokenize(text.lower()) for text in X]\n",
    "\n",
    "Y = pd.get_dummies(data[\"category\"])\n"
   ]
  },
  {
   "cell_type": "code",
   "execution_count": 2,
   "metadata": {},
   "outputs": [
    {
     "data": {
      "text/plain": [
       "business         0\n",
       "entertainment    1\n",
       "politics         0\n",
       "sport            0\n",
       "tech             0\n",
       "Name: 2093, dtype: uint8"
      ]
     },
     "execution_count": 2,
     "metadata": {},
     "output_type": "execute_result"
    }
   ],
   "source": [
    "Y.iloc[2093,:]"
   ]
  },
  {
   "cell_type": "markdown",
   "metadata": {},
   "source": [
    "## Create word-word matrix"
   ]
  },
  {
   "cell_type": "code",
   "execution_count": 3,
   "metadata": {},
   "outputs": [],
   "source": [
    "def word_word_matrix(tokenized_texts, words_order):\n",
    "    unigram_freq = pd.value_counts(list(itertools.chain.from_iterable(tokenized_texts)))\n",
    "    # unigram_freq = unigram_freq[:10]\n",
    "    unigram_prob = unigram_freq /float(sum(unigram_freq))\n",
    "    unigram_prob_matrix = np.matmul(np.expand_dims(unigram_prob, 1), np.expand_dims(unigram_prob, 1).T)\n",
    "\n",
    "    bigrams = [list(ngrams(text, 2)) for text in tokenized_texts]\n",
    "    bigrams = list(itertools.chain.from_iterable(bigrams))\n",
    "\n",
    "    bigram_freq = pd.value_counts(bigrams)\n",
    "\n",
    "    bigram_freq_set = {}\n",
    "    for a,b in zip(bigram_freq.index, bigram_freq):\n",
    "        bigram_freq_set[a] = int(b)\n",
    "\n",
    "\n",
    "    bigram_matrix = np.zeros((len(words_order),len(words_order)))\n",
    "\n",
    "    for i in range(len(words_order)):\n",
    "        word1 = words_order[i]\n",
    "        for j in range(i+1, len(words_order)):\n",
    "            word2 = words_order[j]\n",
    "            try: \n",
    "                bi_coo1 = bigram_freq_set[(word1, word2)] \n",
    "            except:\n",
    "                bi_coo1 = 0\n",
    "            try:    \n",
    "                bi_coo2 = bigram_freq_set[(word2, word1)] + bi_coo1\n",
    "            except:\n",
    "                bi_coo2 = 0 + bi_coo1\n",
    "\n",
    "            bigram_matrix[i,j] = bi_coo2\n",
    "            bigram_matrix[j,i] = bi_coo2\n",
    "\n",
    "    bigram__prob_matrix = bigram_matrix / float(sum(bigram_freq)) \n",
    "\n",
    "    adj_matrix = np.log(bigram__prob_matrix / unigram_prob_matrix)\n",
    "    adj_matrix[adj_matrix < 0] = 0\n",
    "    adj_matrix\n",
    "    return(adj_matrix)"
   ]
  },
  {
   "cell_type": "code",
   "execution_count": 4,
   "metadata": {},
   "outputs": [],
   "source": [
    "def freq_words(tokenized_texts):\n",
    "    unique_freq_tokens = pd.value_counts(list(itertools.chain.from_iterable(tokenized_texts)))\n",
    "    unique_freq_tokens = unique_freq_tokens[unique_freq_tokens>10][10:]\n",
    "    unique_freq_tokens = list(unique_freq_tokens.index)\n",
    "    unique_freq_tokens = [t for t in unique_freq_tokens if t.isalnum()]\n",
    "    return(unique_freq_tokens)"
   ]
  },
  {
   "cell_type": "code",
   "execution_count": 5,
   "metadata": {},
   "outputs": [
    {
     "name": "stderr",
     "output_type": "stream",
     "text": [
      "<ipython-input-3-cb78af80453b>:37: RuntimeWarning: divide by zero encountered in log\n",
      "  adj_matrix = np.log(bigram__prob_matrix / unigram_prob_matrix)\n"
     ]
    }
   ],
   "source": [
    "useful_tokens = freq_words(X_tokenized)\n",
    "X_tokenized_filtered = []\n",
    "for text in X_tokenized: X_tokenized_filtered.append([t for t in text if t in useful_tokens])\n",
    "word_word_adj = word_word_matrix(X_tokenized_filtered, useful_tokens)"
   ]
  },
  {
   "cell_type": "code",
   "execution_count": 6,
   "metadata": {},
   "outputs": [],
   "source": [
    "for i in range(word_word_adj.shape[0]):\n",
    "    word_word_adj[i,i] = 0 "
   ]
  },
  {
   "cell_type": "markdown",
   "metadata": {},
   "source": [
    "## Create word-document matrix"
   ]
  },
  {
   "cell_type": "code",
   "execution_count": 7,
   "metadata": {},
   "outputs": [],
   "source": [
    "from sklearn.feature_extraction.text import TfidfVectorizer\n",
    "tfidf = TfidfVectorizer(vocabulary=useful_tokens)\n",
    "filtered_text = [\" \".join(text) for text in X_tokenized_filtered]\n",
    "doc_word_adj = tfidf.fit_transform(filtered_text)\n",
    "word_doc_adj = doc_word_adj.T"
   ]
  },
  {
   "cell_type": "markdown",
   "metadata": {},
   "source": [
    "## Create document-document matrix"
   ]
  },
  {
   "cell_type": "code",
   "execution_count": 8,
   "metadata": {},
   "outputs": [],
   "source": [
    "doc_doc_adj = np.zeros((Y.shape[0],Y.shape[0]))"
   ]
  },
  {
   "cell_type": "markdown",
   "metadata": {},
   "source": [
    "## Create Graph Adjacency matrix"
   ]
  },
  {
   "cell_type": "code",
   "execution_count": 9,
   "metadata": {},
   "outputs": [],
   "source": [
    "# word_word_adj word_doc_adj \n",
    "# doc_word_adj doc_doc_adj\n",
    "col1 = np.row_stack((word_word_adj, doc_word_adj.todense()))\n",
    "col2 = np.row_stack((word_doc_adj.todense(), doc_doc_adj))\n",
    "graph_adj = np.column_stack((col1,col2))\n",
    "graph_adj_df = pd.DataFrame(graph_adj, columns= useful_tokens + list(range(Y.shape[0])), index = useful_tokens + list(range(Y.shape[0])))"
   ]
  },
  {
   "cell_type": "code",
   "execution_count": 10,
   "metadata": {},
   "outputs": [],
   "source": [
    "Graph = nx.from_pandas_adjacency(graph_adj_df)"
   ]
  },
  {
   "cell_type": "code",
   "execution_count": 11,
   "metadata": {},
   "outputs": [],
   "source": [
    "nx.write_graphml(Graph, \"./Textgraph.graphml\")"
   ]
  },
  {
   "cell_type": "code",
   "execution_count": 12,
   "metadata": {},
   "outputs": [],
   "source": [
    "import pickle\n",
    "from datetime import datetime as dt\n",
    "now = dt.now() \n",
    "file = open(\"./\"+ now.strftime(\"%H%M_%d%m%Y\") + \"_\" + str(\"global_adj_graph\") + \".pkl\",'wb')\n",
    "\n",
    "pickle.dump(Graph, file)\n",
    "#pickle.dump(featureMat_DF, file)\n",
    "pickle.dump(Y, file)\n",
    "file.close()"
   ]
  }
 ],
 "metadata": {
  "kernelspec": {
   "display_name": "venv",
   "language": "python",
   "name": "venv"
  },
  "language_info": {
   "codemirror_mode": {
    "name": "ipython",
    "version": 3
   },
   "file_extension": ".py",
   "mimetype": "text/x-python",
   "name": "python",
   "nbconvert_exporter": "python",
   "pygments_lexer": "ipython3",
   "version": "3.8.5"
  }
 },
 "nbformat": 4,
 "nbformat_minor": 4
}
